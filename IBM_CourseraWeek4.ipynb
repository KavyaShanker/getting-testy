{
  "metadata": {
    "language_info": {
      "codemirror_mode": {
        "name": "python",
        "version": 3
      },
      "file_extension": ".py",
      "mimetype": "text/x-python",
      "name": "python",
      "nbconvert_exporter": "python",
      "pygments_lexer": "ipython3",
      "version": "3.8"
    },
    "kernelspec": {
      "name": "python",
      "display_name": "Python (Pyodide)",
      "language": "python"
    }
  },
  "nbformat_minor": 4,
  "nbformat": 4,
  "cells": [
    {
      "cell_type": "markdown",
      "source": "# My Jupyter Notebook on IBM Watson Studio",
      "metadata": {}
    },
    {
      "cell_type": "markdown",
      "source": "**Name: Kavya Shanker** <br> Currently a student. Hoping to work with technology and thoughtleaders towards making a difference.",
      "metadata": {}
    },
    {
      "cell_type": "markdown",
      "source": "_I am interested in Data Science because I find the idea of discovering trends in the data we have amassed fascinating. The possibilities of these discoveries promise to tell us more about our world than we could imagine._ ",
      "metadata": {}
    },
    {
      "cell_type": "markdown",
      "source": "### The code in cell 5 prints the sum of 3 and 4.",
      "metadata": {}
    },
    {
      "cell_type": "code",
      "source": "print( \"The sum of 3 and 4 is = \", end = \"\")\nprint(3+4)",
      "metadata": {
        "trusted": true
      },
      "execution_count": 4,
      "outputs": [
        {
          "name": "stdout",
          "text": "The sum of 3 and 4 is = 7\n",
          "output_type": "stream"
        }
      ]
    },
    {
      "cell_type": "markdown",
      "source": "This is line 1.There is horizontal rule after line 1.\n<hr>\n<br>\nHere's a list of words for you:\n<ul>\n    <li> Word No.1 \n    <li> Word No.2 \n    <li> Word No.3 \n    <li> Word No.4                \n<ul>\n<br>\nNow, I am inserting a table:\n    <table>\n  <tr>\n    <th>Doughnut</th>\n    <th>Like/Dislike</th>\n  </tr>\n  <tr>\n    <td>Plain glazed</td>\n    <td>Like</td>\n  </tr>\n <tr>\n    <td>Jam filled</td>\n    <td>Dislike (Sorry)</td>\n  </tr>\n <tr>\n    <td>Chocolate</td>\n    <td>Like</td>\n </tr>\n</table> ",
      "metadata": {}
    },
    {
      "cell_type": "code",
      "source": "",
      "metadata": {},
      "execution_count": null,
      "outputs": []
    }
  ]
}
